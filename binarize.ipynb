{
  "nbformat": 4,
  "nbformat_minor": 0,
  "metadata": {
    "colab": {
      "name": "binarize.ipynb",
      "provenance": [],
      "authorship_tag": "ABX9TyPrkZ4XPn9O7vUfLpy7eP89"
    },
    "kernelspec": {
      "name": "python3",
      "display_name": "Python 3"
    },
    "language_info": {
      "name": "python"
    }
  },
  "cells": [
    {
      "cell_type": "code",
      "metadata": {
        "id": "VM_E5coZNwjc"
      },
      "source": [
        "def binarize(im, turn):\n",
        "  \"\"\"\n",
        "  Binarizes a given image\n",
        "  \"\"\""
      ],
      "execution_count": null,
      "outputs": []
    },
    {
      "cell_type": "code",
      "metadata": {
        "id": "caaMmsHiONoH"
      },
      "source": [
        "\"\"\"\n",
        "This function takes an image and binarizes it based on a given turning point. \n",
        "Pixels with a value above the given turning point are set equal to 1 (white),\n",
        "while pixels equal to or below the turning point are set equal to 0 (black). \n",
        "If the pixel values are greater than 1, the function will throw an error message.\n",
        "\"\"\""
      ],
      "execution_count": null,
      "outputs": []
    },
    {
      "cell_type": "code",
      "metadata": {
        "id": "lPoZkzWbOWV4"
      },
      "source": [
        "Parameters\n",
        "----------\n",
        "im  : 2D int array\n",
        "      image\n",
        "turn: int\n",
        "      integer between 0 and 1\n",
        "      pixel values above \"turn\" are set equal to 1\n",
        "      pixel values equal to or below \"turn\" are set equal to 0\n"
      ],
      "execution_count": null,
      "outputs": []
    },
    {
      "cell_type": "code",
      "metadata": {
        "id": "S-QuhvVUOg8o"
      },
      "source": [
        "Returns\n",
        "-------\n",
        "err_code  : str\n",
        "            prints error message if pixel value is greater than 1\n",
        "binary_im : 2D int array\n",
        "            binarized version of image im"
      ],
      "execution_count": null,
      "outputs": []
    },
    {
      "cell_type": "code",
      "metadata": {
        "id": "X4LZJEFbOhs_"
      },
      "source": [
        "def binarize(im, turn):\n",
        "  w, h = im.shape\n",
        "  binary_im = np.zeros((w,h)) \n",
        "  error_code = 'Error: pixel values must be between 0 and 1'\n",
        "\n",
        "  for a,i in enumerate(im):\n",
        "    for b,j in enumerate(i):\n",
        "      if j>1:\n",
        "        print(error_code)\n",
        "      if j>turn:\n",
        "        binary_im[a,b]=1\n",
        "  return binary_im"
      ],
      "execution_count": null,
      "outputs": []
    },
    {
      "cell_type": "code",
      "metadata": {
        "id": "g4qKRUUYOmjD"
      },
      "source": [
        "Example\n",
        "--------\n",
        "#import urllib2\n",
        "#file = urllib2.urlopen(\"https://www.pbs.org/wnet/nature/files/2016/10/mezzanine_904.jpg\")\n",
        "#im = plt.imread(file)\n",
        "#im = rgb2gray(im)\n",
        "\n",
        ">>> binarize(im, 0.25)\n",
        "binary_im"
      ],
      "execution_count": null,
      "outputs": []
    }
  ]
}