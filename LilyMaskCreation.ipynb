{
  "nbformat": 4,
  "nbformat_minor": 0,
  "metadata": {
    "colab": {
      "name": "LilyMaskCreation.ipynb",
      "provenance": [],
      "collapsed_sections": [],
      "authorship_tag": "ABX9TyPl5lyn4DeM0dxsPn1PStpl"
    },
    "kernelspec": {
      "name": "python3",
      "display_name": "Python 3"
    },
    "language_info": {
      "name": "python"
    }
  },
  "cells": [
    {
      "cell_type": "markdown",
      "metadata": {
        "id": "U6DQW9h03LZE"
      },
      "source": [
        "## The goal of this code is to convert images of lily slices into masks of the petal cross-sections."
      ]
    },
    {
      "cell_type": "code",
      "metadata": {
        "id": "Pqard0lU4lhY"
      },
      "source": [
        ""
      ],
      "execution_count": null,
      "outputs": []
    }
  ]
}