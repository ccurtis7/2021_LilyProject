{
  "nbformat": 4,
  "nbformat_minor": 0,
  "metadata": {
    "colab": {
      "name": "LilyThicknessMeasurement.ipynb",
      "provenance": [],
      "authorship_tag": "ABX9TyMA3nGfs4YmRrLa74PlqWQB"
    },
    "kernelspec": {
      "name": "python3",
      "display_name": "Python 3"
    },
    "language_info": {
      "name": "python"
    }
  },
  "cells": [
    {
      "cell_type": "markdown",
      "metadata": {
        "id": "gKqoDW825bNF"
      },
      "source": [
        "**Measuring the thickness of Lily Tepal Slices**"
      ]
    },
    {
      "cell_type": "code",
      "metadata": {
        "id": "bsTWwxYM5RCM"
      },
      "source": [
        ""
      ],
      "execution_count": null,
      "outputs": []
    }
  ]
}